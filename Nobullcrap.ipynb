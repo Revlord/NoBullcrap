{
 "cells": [
  {
   "cell_type": "code",
   "execution_count": null,
   "id": "a7af49b0",
   "metadata": {},
   "outputs": [],
   "source": [
    "import pandas as pd\n",
    "import requests\n",
    "from bs4 import BeautifulSoup\n",
    "\n",
    "# Load the CSV file into a pandas dataframe\n",
    "df = pd.read_csv(\"politic.csv\")\n",
    "\n",
    "art_ipt = input(\"Please input the article URL\")\n",
    "\n",
    "# Create a dictionary of words and their occurrences\n",
    "word_dict = dict(zip(df['Word'], df['Occurrences']))\n",
    "\n",
    "def classify_article(article_url):\n",
    "    # Extract the text from the article URL\n",
    "    article = requests.get(article_url)\n",
    "    soup = BeautifulSoup(article.content, 'html.parser')\n",
    "    text = soup.get_text()\n",
    "    \n",
    "\n",
    "    \n",
    "    # Split the text into individual words\n",
    "    words = text.split()\n",
    "    \n",
    "    # Keep track of the total occurrences of words from the csv file\n",
    "    total_occurrences = 0\n",
    "    \n",
    "    for word in words:\n",
    "        if word in word_dict:\n",
    "            total_occurrences += word_dict[word]\n",
    "    \n",
    "    # Classify the article as left or right wing based on the total occurrences\n",
    "    if total_occurrences >= 0:\n",
    "        return 'Left Wing'\n",
    "    else:\n",
    "        return 'Right Wing'\n",
    "    \n",
    "classify_article(art_ipt)\n",
    "    "
   ]
  },
  {
   "cell_type": "code",
   "execution_count": null,
   "id": "2f31d3cd",
   "metadata": {},
   "outputs": [],
   "source": []
  }
 ],
 "metadata": {
  "kernelspec": {
   "display_name": "Python 3 (ipykernel)",
   "language": "python",
   "name": "python3"
  },
  "language_info": {
   "codemirror_mode": {
    "name": "ipython",
    "version": 3
   },
   "file_extension": ".py",
   "mimetype": "text/x-python",
   "name": "python",
   "nbconvert_exporter": "python",
   "pygments_lexer": "ipython3",
   "version": "3.9.13"
  }
 },
 "nbformat": 4,
 "nbformat_minor": 5
}
